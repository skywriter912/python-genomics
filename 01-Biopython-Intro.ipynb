{
 "cells": [
  {
   "cell_type": "code",
   "execution_count": 1,
   "metadata": {},
   "outputs": [],
   "source": [
    "from Bio.Blast import NCBIWWW, NCBIXML\n",
    "from Bio.Seq import Seq\n",
    "import numpy as np\n",
    "import re"
   ]
  },
  {
   "cell_type": "code",
   "execution_count": 90,
   "metadata": {},
   "outputs": [],
   "source": [
    "fasta_string = open('myseq.fa').read()"
   ]
  },
  {
   "cell_type": "code",
   "execution_count": 91,
   "metadata": {},
   "outputs": [],
   "source": [
    "result_handle = NCBIWWW.qblast('blastn','nt',fasta_string) # 'blastn'-program to use; 'nt'-which database to search "
   ]
  },
  {
   "cell_type": "code",
   "execution_count": 92,
   "metadata": {},
   "outputs": [
    {
     "name": "stdout",
     "output_type": "stream",
     "text": [
      "TGGGCCTCATATTTATCCTATATACCATGTTCGTATGGTGGCGCGATGTTCTACGTGAATCCACGTTCGAAGGACATCATACCAAAGTCGTAC\n",
      "AATTAGGACCTCGATATGGTTTTATTCTGTTTATCGTATCGGAGGTTATGTTCTTTTTTGCTCTTTTTCGGGCTTCTTCTCATTCTTCTTTGGCAC\n",
      "CTACGGTAGAG\n"
     ]
    }
   ],
   "source": [
    "print(fasta_string)"
   ]
  },
  {
   "cell_type": "code",
   "execution_count": 93,
   "metadata": {},
   "outputs": [],
   "source": [
    "blast_record = NCBIXML.read(result_handle)"
   ]
  },
  {
   "cell_type": "code",
   "execution_count": 94,
   "metadata": {},
   "outputs": [
    {
     "data": {
      "text/plain": [
       "50"
      ]
     },
     "execution_count": 94,
     "metadata": {},
     "output_type": "execute_result"
    }
   ],
   "source": [
    "len(blast_record.alignments)"
   ]
  },
  {
   "cell_type": "code",
   "execution_count": 99,
   "metadata": {},
   "outputs": [
    {
     "name": "stdout",
     "output_type": "stream",
     "text": [
      "****Alignment****\n",
      "sequence :  gi|1241191387|gb|MF579563.1| Nicotiana attenuata mitochondrion, complete genome\n",
      "length :  394341\n",
      "e value :  2.90531e-96\n",
      "TGGGCCTCATATTTATCCTATATACCATGTTCGTATGGTGGCGCGATGTTCTACGTGAATCCACGTTCGAAGGACATCATACCAAAGTCGTACAATTAGGACCTCGATATGGTTTTATTCTGTTTATCGTATCGGAGGTTATGTTCTTTTTTGCTCTTTTTCGGGCTTCTTCTCATTCTTCTTTGGCACCTACGGTAGAG\n",
      "||||||||||||||||||||||||||||||||||||||||||||||||||||||||||||||||||||||||||||||||||||||||||||||||||||||||||||||||||||||||||||||||||||||||||||||||||||||||||||||||||||||||||||||||||||||||||||||||||||||||\n",
      "TGGGCCTCATATTTATCCTATATACCATGTTCGTATGGTGGCGCGATGTTCTACGTGAATCCACGTTCGAAGGACATCATACCAAAGTCGTACAATTAGGACCTCGATATGGTTTTATTCTGTTTATCGTATCGGAGGTTATGTTCTTTTTTGCTCTTTTTCGGGCTTCTTCTCATTCTTCTTTGGCACCTACGGTAGAG\n"
     ]
    }
   ],
   "source": [
    "E_VALUE_MIN = 0.01; i=0; evals=[];\n",
    "for alignment in blast_record.alignments:\n",
    "    for hsp in alignment.hsps:\n",
    "        evals.append(hsp.expect)\n",
    "        if hsp.expect < E_VALUE_MIN:\n",
    "            title = alignment.title;\n",
    "            length = alignment.length;\n",
    "            E_VALUE_MIN = hsp.expect;\n",
    "print('****Alignment****')\n",
    "print('sequence : ', title)\n",
    "print('length : ', length)"
   ]
  },
  {
   "cell_type": "code",
   "execution_count": 118,
   "metadata": {},
   "outputs": [],
   "source": [
    "fasta_string = open('seq1.fa').read()\n",
    "split = fasta_string.split('\\n')\n",
    "fasta_string = ''.join(split)\n",
    "myseq = Seq(fasta_string)"
   ]
  },
  {
   "cell_type": "code",
   "execution_count": 119,
   "metadata": {},
   "outputs": [
    {
     "data": {
      "text/plain": [
       "200"
      ]
     },
     "execution_count": 119,
     "metadata": {},
     "output_type": "execute_result"
    }
   ],
   "source": [
    "len(fasta_string)"
   ]
  },
  {
   "cell_type": "markdown",
   "metadata": {},
   "source": [
    "## Mini-test"
   ]
  },
  {
   "cell_type": "code",
   "execution_count": 2,
   "metadata": {},
   "outputs": [],
   "source": [
    "records = {}\n",
    "fasta_file = open('dna2.fasta')\n",
    "for line in fasta_file:\n",
    "    line = line.rstrip()\n",
    "    if line.startswith('>'):\n",
    "        words = line.split()\n",
    "        name = words[0][1:]\n",
    "        records[name] = ''\n",
    "    else:\n",
    "        records[name] = records[name] + line\n",
    "fasta_file.close()\n",
    "keys = list(records.keys())"
   ]
  },
  {
   "cell_type": "markdown",
   "metadata": {},
   "source": [
    "**1)** How many records are in the file? - _18_"
   ]
  },
  {
   "cell_type": "code",
   "execution_count": 3,
   "metadata": {},
   "outputs": [
    {
     "data": {
      "text/plain": [
       "18"
      ]
     },
     "execution_count": 3,
     "metadata": {},
     "output_type": "execute_result"
    }
   ],
   "source": [
    "len(records)"
   ]
  },
  {
   "cell_type": "markdown",
   "metadata": {},
   "source": [
    "**2)** What is the length of the longest sequence in the file? - _4894_ <br>\n",
    "**3)** What is the length of the shortest sequence in the file? - _115_"
   ]
  },
  {
   "cell_type": "code",
   "execution_count": 4,
   "metadata": {},
   "outputs": [
    {
     "name": "stdout",
     "output_type": "stream",
     "text": [
      "115   4894   [4635, 1151, 4894, 3511, 4076, 2867, 442, 890, 967, 4338, 1352, 4564, 4804, 964, 2095, 1432, 115, 2646]\n"
     ]
    }
   ],
   "source": [
    "lengths = list(map(lambda seq: len(seq), records.values()))\n",
    "print(min(lengths),' ',max(lengths),' ',lengths)"
   ]
  },
  {
   "cell_type": "markdown",
   "metadata": {},
   "source": [
    "**CAUTION**: задания 4)-6) не решены. Вернусь к ним, когда разберусь."
   ]
  },
  {
   "cell_type": "markdown",
   "metadata": {},
   "source": [
    "**4)** What is the length of the longest ORF appearing in reading frame 2 of any of the sequences? - _1458_"
   ]
  },
  {
   "cell_type": "code",
   "execution_count": 42,
   "metadata": {},
   "outputs": [],
   "source": [
    "def ORFs_n(sequence):\n",
    "    startP = re.compile('ATG'); longest = (0,); orfs=[[0,0,0],[0,0,0]]; starts=[[0,0,0],[0,0,0]];\n",
    "    for direction,nuc in [(0, Seq(sequence)), (1, Seq(sequence).reverse_complement())]:\n",
    "        for frame in range(3):\n",
    "            nuc = nuc[frame:]\n",
    "            for m in startP.finditer(str(nuc)):\n",
    "                length = 3*((len(nuc)-m.start()) // 3)\n",
    "                if len(nuc[m.start():m.start()+length].translate(to_stop=True)) > orfs[direction][frame]:\n",
    "                    pro = nuc[m.start():m.start()+length].translate(to_stop=True)\n",
    "                    orfs[direction][frame] = len(pro); starts[direction][frame] = m.start()\n",
    "    return(orfs[0]+orfs[1])"
   ]
  },
  {
   "cell_type": "code",
   "execution_count": 21,
   "metadata": {},
   "outputs": [],
   "source": [
    "def ORFs_new(sequence):\n",
    "    orfs=[[0,0,0],[0,0,0]]; starts=[[0,0,0],[0,0,0]];\n",
    "    for direction,value in [(0, Seq(sequence)), (1, Seq(sequence).reverse_complement())]:\n",
    "        for frame in range(3):\n",
    "            length = 3*((len(value)-frame) // 3)\n",
    "            nuc = value[frame:frame+length].translate()\n",
    "            for seq in nuc.split('*'):\n",
    "                m = seq.find('M')\n",
    "                if ((m != -1) & ((len(seq)-m)>orfs[direction][frame])):\n",
    "                    orfs[direction][frame] = len(seq)-m\n",
    "                    starts[direction][frame] = nuc.find(seq)+frame-m          \n",
    "    return(starts[0]+starts[1])       "
   ]
  },
  {
   "cell_type": "code",
   "execution_count": 4,
   "metadata": {},
   "outputs": [],
   "source": [
    "def ORFs(sequence):\n",
    "    orfs=[[0,0,0],[0,0,0]]; starts=[[0,0,0],[0,0,0]];\n",
    "    for direction,value in [(0, Seq(sequence)), (1, Seq(sequence).reverse_complement())]:\n",
    "        for frame in range(3):\n",
    "            nuc = value[frame:]; start=0;\n",
    "            while (start < len(nuc)):\n",
    "                start = nuc.find('ATG', start, len(nuc)) # search for start-codon\n",
    "                if (start != -1): # start-codon found\n",
    "                    length = 3*((len(nuc)-start) // 3) # multiple of 3\n",
    "                    translation = nuc[start:start+length].translate(table=1) # try to translate\n",
    "                    stop = translation.find('*') # search for first stop-codon\n",
    "                    if (stop != -1): # stop-codon found\n",
    "                        length = (stop+1)*3\n",
    "                        if (orfs[direction][frame] < length):\n",
    "                            orfs[direction][frame] = length; starts[direction][frame] = start+1+frame\n",
    "                        else:\n",
    "                            length=0;\n",
    "                    start = start+length+1;\n",
    "                else:\n",
    "                    start = len(nuc)\n",
    "    return(orfs[0]+orfs[1])        "
   ]
  },
  {
   "cell_type": "code",
   "execution_count": 5,
   "metadata": {},
   "outputs": [],
   "source": [
    "ORFs_for_dnas = np.array(list(map(lambda dna: ORFs(dna), records.values() )))"
   ]
  },
  {
   "cell_type": "code",
   "execution_count": 6,
   "metadata": {},
   "outputs": [
    {
     "data": {
      "text/plain": [
       "array([[1296, 1296, 1296, 1632, 1632, 1632],\n",
       "       [   0,    0,    0,  108,  108,  108],\n",
       "       [1443, 1443, 1443, 1299, 1299, 1299],\n",
       "       [2073, 2073, 2073, 2268, 2268, 2268],\n",
       "       [1200, 1200, 1200, 1101, 1101, 1101],\n",
       "       [1194, 1194, 1194,    0,    0,    0],\n",
       "       [ 189,  189,  189,    0,    0,    0],\n",
       "       [ 120,  120,  120,    0,    0,    0],\n",
       "       [ 159,  159,  159,  102,  102,  102],\n",
       "       [ 711,  711,  711, 1233, 1233, 1233],\n",
       "       [ 204,  204,  204,   87,   87,   87],\n",
       "       [1002, 1002, 1002, 1566, 1566, 1566],\n",
       "       [1644, 1644, 1644, 1656, 1656, 1656],\n",
       "       [ 132,  132,  132,  654,  654,  654],\n",
       "       [ 210,  126,  126,  963,  963,  963],\n",
       "       [ 204,  204,  204,  336,  336,  336],\n",
       "       [   0,    0,    0,    0,    0,    0],\n",
       "       [1344, 1344, 1344, 1014, 1014, 1014]])"
      ]
     },
     "execution_count": 6,
     "metadata": {},
     "output_type": "execute_result"
    }
   ],
   "source": [
    "ORFs_for_dnas"
   ]
  },
  {
   "cell_type": "markdown",
   "metadata": {},
   "source": [
    "**5)** What is the starting position of the longest ORF in reading frame 3 in any of the sequences? - _636_"
   ]
  },
  {
   "cell_type": "code",
   "execution_count": null,
   "metadata": {},
   "outputs": [],
   "source": []
  },
  {
   "cell_type": "markdown",
   "metadata": {},
   "source": [
    "**6)** What is the length of the longest ORF appearing in any sequence and in any forward reading frame? - _2394_"
   ]
  },
  {
   "cell_type": "code",
   "execution_count": null,
   "metadata": {},
   "outputs": [],
   "source": []
  },
  {
   "cell_type": "markdown",
   "metadata": {},
   "source": [
    "**7)** What is the length of the longest forward ORF that appears in the sequence with the identifier gi|142022655|gb|EQ086233.1|16? - _1644_"
   ]
  },
  {
   "cell_type": "code",
   "execution_count": 8,
   "metadata": {},
   "outputs": [
    {
     "data": {
      "text/plain": [
       "1644"
      ]
     },
     "execution_count": 8,
     "metadata": {},
     "output_type": "execute_result"
    }
   ],
   "source": [
    "ID = 'gi|142022655|gb|EQ086233.1|16' # given ID, suppose\n",
    "ind = keys.index(ID)\n",
    "max(ORFs(records[ID])[:3])"
   ]
  },
  {
   "cell_type": "markdown",
   "metadata": {},
   "source": [
    "**8)** Find the most frequently occurring repeat of length 6 in all sequences. How many times does it occur in all? - _153_"
   ]
  },
  {
   "cell_type": "code",
   "execution_count": 36,
   "metadata": {},
   "outputs": [],
   "source": [
    "import re"
   ]
  },
  {
   "cell_type": "code",
   "execution_count": 37,
   "metadata": {},
   "outputs": [],
   "source": [
    "def Most_freq(n):\n",
    "    repeats={}\n",
    "    for value in records.values():\n",
    "        for i in np.arange(0,len(value)-n+1,1):\n",
    "            fragment = value[i:i+n]\n",
    "            if repeats.__contains__(fragment):\n",
    "                continue\n",
    "            else:\n",
    "                repeats[fragment] = 0\n",
    "                for seq in records.values():\n",
    "                    repeats[fragment] = repeats[fragment] + len(re.findall('(?='+fragment+')', seq))\n",
    "    keys_rep = list(repeats.keys()); values_rep = list(repeats.values())\n",
    "    return([keys_rep, values_rep])"
   ]
  },
  {
   "cell_type": "code",
   "execution_count": 38,
   "metadata": {},
   "outputs": [],
   "source": [
    "[keys, values] = Most_freq(6)"
   ]
  },
  {
   "cell_type": "code",
   "execution_count": 41,
   "metadata": {},
   "outputs": [
    {
     "name": "stdout",
     "output_type": "stream",
     "text": [
      "153\n"
     ]
    }
   ],
   "source": [
    "values.sort(); print(max(values))"
   ]
  },
  {
   "cell_type": "markdown",
   "metadata": {},
   "source": [
    "**9)** Find all repeats of length 12 in the input file. How many different 12-base sequences occur Max times? - _4_"
   ]
  },
  {
   "cell_type": "code",
   "execution_count": 42,
   "metadata": {},
   "outputs": [],
   "source": [
    "[keys, values] = Most_freq(12)"
   ]
  },
  {
   "cell_type": "code",
   "execution_count": 50,
   "metadata": {},
   "outputs": [
    {
     "data": {
      "text/plain": [
       "4"
      ]
     },
     "execution_count": 50,
     "metadata": {},
     "output_type": "execute_result"
    }
   ],
   "source": [
    "len(np.where(np.array(values) == max(values))[0])"
   ]
  },
  {
   "cell_type": "markdown",
   "metadata": {},
   "source": [
    "**10)** Which one of the repeats of length 7 has a maximum number of occurrences? - _CGCGCCG_"
   ]
  },
  {
   "cell_type": "code",
   "execution_count": 51,
   "metadata": {},
   "outputs": [],
   "source": [
    "[keys, values] = Most_freq(7)"
   ]
  },
  {
   "cell_type": "code",
   "execution_count": 56,
   "metadata": {},
   "outputs": [
    {
     "name": "stdout",
     "output_type": "stream",
     "text": [
      "CGCGCCG\n"
     ]
    }
   ],
   "source": [
    "i = np.where(np.array(values) == max(values))[0][0]\n",
    "print(keys[i])"
   ]
  },
  {
   "cell_type": "code",
   "execution_count": null,
   "metadata": {},
   "outputs": [],
   "source": []
  }
 ],
 "metadata": {
  "kernelspec": {
   "display_name": "Python 3",
   "language": "python",
   "name": "python3"
  },
  "language_info": {
   "codemirror_mode": {
    "name": "ipython",
    "version": 3
   },
   "file_extension": ".py",
   "mimetype": "text/x-python",
   "name": "python",
   "nbconvert_exporter": "python",
   "pygments_lexer": "ipython3",
   "version": "3.6.3"
  }
 },
 "nbformat": 4,
 "nbformat_minor": 2
}
